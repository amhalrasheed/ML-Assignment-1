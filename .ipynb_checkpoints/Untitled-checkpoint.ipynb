{
 "cells": [
  {
   "cell_type": "code",
   "execution_count": null,
   "id": "6b83e1c1",
   "metadata": {},
   "outputs": [],
   "source": [
    "import math\n",
    "import numpy as npy\n",
    "import pandas as pd\n",
    "import matplotlib.pyplot as plt\n",
    "from sklearn.model_selection import train_test_split\n",
    "from sklearn.tree import DecisionTreeClassifier\n",
    "from sklearn import metrics\n",
    "from sklearn.tree import plot_tree\n",
    "from sklearn.metrics import accuracy_score"
   ]
  },
  {
   "cell_type": "code",
   "execution_count": null,
   "id": "a69aec89",
   "metadata": {},
   "outputs": [],
   "source": [
    "df = pd.read_csv(\"heart.csv\")"
   ]
  },
  {
   "cell_type": "code",
   "execution_count": null,
   "id": "8a7af533",
   "metadata": {},
   "outputs": [],
   "source": [
    "data_set = df.drop('target', axis='columns')\n",
    "data_target = df['target']\n",
    "\n",
    "var_columns = [c for c in data_set.columns]"
   ]
  },
  {
   "cell_type": "code",
   "execution_count": null,
   "id": "cb82a550",
   "metadata": {},
   "outputs": [],
   "source": [
    "x = data_set\n",
    "y = data_target\n",
    "x_train, x_test, y_train, y_test = train_test_split(x,y, random_state=9)"
   ]
  },
  {
   "cell_type": "code",
   "execution_count": null,
   "id": "6871557e",
   "metadata": {},
   "outputs": [],
   "source": [
    "model_tree = DecisionTreeClassifier(criterion='entropy')\n",
    "model_tree.fit(x_train, y_train)"
   ]
  },
  {
   "cell_type": "code",
   "execution_count": null,
   "id": "44d45342",
   "metadata": {},
   "outputs": [],
   "source": [
    "plt.figure(figsize=(15,7.5))\n",
    "\n",
    "plot_tree(model_tree, feature_names=var_columns, class_names=[\"not HD\",\" HD\"], rounded=True, filled=True)\n",
    "\n",
    "plt.show()"
   ]
  },
  {
   "cell_type": "code",
   "execution_count": null,
   "id": "b1ad43ad",
   "metadata": {},
   "outputs": [],
   "source": [
    "y_train_p = model_tree.predict(x_train)\n",
    "y_test_p = model_tree.predict(x_test)"
   ]
  },
  {
   "cell_type": "code",
   "execution_count": null,
   "id": "9c70b12c",
   "metadata": {},
   "outputs": [],
   "source": [
    "print(f'Accuracy of the training sample = {accuracy_score(y_train, y_train_p)*100}%')\n",
    "print(f'Accuracy of the test sample = {round(accuracy_score(y_test, y_test_p), 2)*100}%')"
   ]
  },
  {
   "cell_type": "code",
   "execution_count": null,
   "id": "2a83dcbe",
   "metadata": {},
   "outputs": [],
   "source": [
    "print('Confusion Matrix of training data')\n",
    "metrics.ConfusionMatrixDisplay.from_predictions(y_train, y_train_p, display_labels=[\"not HD\",\" HD\"])"
   ]
  },
  {
   "cell_type": "code",
   "execution_count": null,
   "id": "c63fb63f",
   "metadata": {},
   "outputs": [],
   "source": [
    "print('Confusion Matrix of test data')\n",
    "metrics.ConfusionMatrixDisplay.from_predictions(y_test, y_test_p, display_labels=[ \" not HD\",\" HD\"])"
   ]
  },
  {
   "cell_type": "code",
   "execution_count": null,
   "id": "d9ecc0cc",
   "metadata": {},
   "outputs": [],
   "source": [
    "path = model_tree.cost_complexity_pruning_path(x_train, y_train)\n",
    "alphas = path['ccp_alphas']\n",
    "\n",
    "alphas"
   ]
  },
  {
   "cell_type": "code",
   "execution_count": null,
   "id": "852f18d8",
   "metadata": {},
   "outputs": [],
   "source": [
    "acc_train = []\n",
    "acc_test = []\n",
    "\n",
    "for alpha in alphas:\n",
    "    temp_tree = DecisionTreeClassifier(ccp_alpha=alpha)\n",
    "    temp_tree.fit(x_train, y_train)\n",
    "\n",
    "    y_train_p, y_test_p = temp_tree.predict(x_train), temp_tree.predict(x_test)\n",
    "\n",
    "    acc_train.append(accuracy_score(y_train, y_train_p))\n",
    "    acc_test.append(accuracy_score(y_test, y_test_p))\n",
    "\n",
    "plt.figure(figsize=(14,7))\n",
    "plt.scatter(alphas,acc_train)\n",
    "plt.scatter(alphas,acc_test)\n",
    "plt.plot(alphas,acc_train,label='train_accuracy',drawstyle=\"steps-post\")\n",
    "plt.plot(alphas,acc_test,label='test_accuracy',drawstyle=\"steps-post\")\n",
    "plt.xticks(ticks=npy.arange(0.00,0.2,0.005, ), rotation=45)\n",
    "plt.title('Accuracy vs alpha')\n",
    "plt.legend()\n",
    "plt.xlabel('alphas') \n",
    "plt.ylabel('accuracy') \n",
    "plt.show()"
   ]
  },
  {
   "cell_type": "code",
   "execution_count": null,
   "id": "eeaa0a9a",
   "metadata": {},
   "outputs": [],
   "source": [
    "tree = DecisionTreeClassifier(ccp_alpha=0.03,  criterion='entropy')\n",
    "tree.fit(x_train,y_train)\n",
    "y_train_p1 = tree.predict(x_train)\n",
    "y_test_p1 = tree.predict(x_test)"
   ]
  },
  {
   "cell_type": "code",
   "execution_count": null,
   "id": "6add0a36",
   "metadata": {},
   "outputs": [],
   "source": [
    "plt.figure(figsize=(15,7.5))\n",
    "\n",
    "plot_tree(tree, feature_names=var_columns, class_names=['NOT HD','HD'], rounded=True, filled=True)\n",
    "\n",
    "plt.show()"
   ]
  },
  {
   "cell_type": "code",
   "execution_count": null,
   "id": "41612c25",
   "metadata": {},
   "outputs": [],
   "source": [
    "print(f'Accuracy of the training sample = {round(accuracy_score(y_train, y_train_p1), 2)*100}%')\n",
    "print(f'Accuracy of the test sample = {round(accuracy_score(y_test, y_test_p1), 2)*100}%')"
   ]
  },
  {
   "cell_type": "code",
   "execution_count": null,
   "id": "7b7cc412",
   "metadata": {},
   "outputs": [],
   "source": [
    "print('Confusion Matrix of training data and test data')\n",
    "metrics.ConfusionMatrixDisplay.from_predictions(y_train, y_train_p1, display_labels=[ \" not HD\",\" HD\"])\n",
    "metrics.ConfusionMatrixDisplay.from_predictions(y_test, y_test_p1, display_labels=[ \" not HD\",\" HD\"])"
   ]
  }
 ],
 "metadata": {
  "kernelspec": {
   "display_name": "Python 3 (ipykernel)",
   "language": "python",
   "name": "python3"
  },
  "language_info": {
   "codemirror_mode": {
    "name": "ipython",
    "version": 3
   },
   "file_extension": ".py",
   "mimetype": "text/x-python",
   "name": "python",
   "nbconvert_exporter": "python",
   "pygments_lexer": "ipython3",
   "version": "3.10.2"
  }
 },
 "nbformat": 4,
 "nbformat_minor": 5
}
